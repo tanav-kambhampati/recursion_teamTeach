{
 "cells": [
  {
   "cell_type": "markdown",
   "metadata": {},
   "source": [
    "#### 10.2 - Recursive Binary Search"
   ]
  },
  {
   "cell_type": "markdown",
   "metadata": {},
   "source": [
    "What is a binary search?\n",
    "- highly efficient algorithm used to find a specific target value within a sorted array by repeatedly dividing the search space in half\n",
    "- it eliminates half of the possible locations with each comparison until the target is found or the search space is exhausted"
   ]
  },
  {
   "cell_type": "code",
   "execution_count": null,
   "metadata": {
    "vscode": {
     "languageId": "java"
    }
   },
   "outputs": [],
   "source": [
    "target = 24\n",
    "int[] intArray = {0, 2, 4, 6, 8, 10, 12, 14, 16, 18, 20, 22, 24, 26, 28, 30, 32, 34, 36, 38, 40};"
   ]
  },
  {
   "cell_type": "markdown",
   "metadata": {},
   "source": [
    "How many iterations do you need to find the target using **linear search?**"
   ]
  },
  {
   "cell_type": "markdown",
   "metadata": {},
   "source": [
    "How many calls will be needed to find the target using **binary search?**\n",
    "(we'll come back to this)"
   ]
  },
  {
   "cell_type": "markdown",
   "metadata": {},
   "source": [
    "![Screenshot 2025-01-05 at 10 10 54 PM](https://github.com/user-attachments/assets/249d3d94-2a05-4b06-bd08-e682120fcd6c)"
   ]
  },
  {
   "cell_type": "markdown",
   "metadata": {},
   "source": [
    "We know how to find the target **iteratively...**\n",
    "- first we pass an array, high & low position (sort of like boundaries for our search), and the target value\n",
    "- as long as our low position is less than or equal to high position, we can find the middle\n",
    "- whatever the middle is, we compare it to the target, and adjust our boundaries based off of that comparison\n",
    "- if the middle value is less than the target, we adjust the low position up\n",
    "- if the middle value is greater than the target, we adjust the high positiion down\n",
    "- if the middle value is the target, we return it!"
   ]
  },
  {
   "cell_type": "markdown",
   "metadata": {},
   "source": [
    "But how do we find it **recursively?** (Questions below)"
   ]
  },
  {
   "cell_type": "markdown",
   "metadata": {},
   "source": [
    "![Screenshot 2025-01-05 at 10 16 30 PM](https://github.com/user-attachments/assets/85116427-6c14-4f18-931a-9a05906f5b54)"
   ]
  },
  {
   "cell_type": "markdown",
   "metadata": {},
   "source": [
    "![Screenshot 2025-01-05 at 10 17 48 PM](https://github.com/user-attachments/assets/b2305755-75ac-43cd-942f-5077312d52bd)"
   ]
  },
  {
   "cell_type": "markdown",
   "metadata": {},
   "source": [
    "Back to our question, how many recursive calls would it take to find the target?"
   ]
  },
  {
   "cell_type": "markdown",
   "metadata": {},
   "source": [
    "**Merge Sort:**\n",
    "Merge Sort is a more advanced algorithm. It uses a strategy called divide-and-conquer. That means it breaks a big problem into smaller problems, solves those, and then combines the results. Think about sorting a messy pile of papers: you might divide it into smaller piles, organize each one, and then combine them back in order.\n",
    "\n",
    "How does it work?\n",
    "![alt text](image.png)\n",
    "\n",
    "A simple way to think about this is with the mantra \"left, right, merge... left, right merge... left, right, merge...\""
   ]
  },
  {
   "cell_type": "markdown",
   "metadata": {},
   "source": [
    "Now let's take a look at how the code for this works in Java:"
   ]
  },
  {
   "cell_type": "code",
   "execution_count": null,
   "metadata": {
    "vscode": {
     "languageId": "plaintext"
    }
   },
   "outputs": [],
   "source": [
    "This is the splitting of array\n",
    "\n",
    "\n",
    "public static void mergeSort(int[] array) {\n",
    "    if (array.length < 2) { // Base case: if the array has one or zero elements\n",
    "        return;\n",
    "    }\n",
    "    int mid = array.length / 2;\n",
    "\n",
    "    // Split the array into two halves\n",
    "    int[] left = new int[mid];\n",
    "    int[] right = new int[array.length - mid];\n",
    "\n",
    "    for (int i = 0; i < mid; i++) {\n",
    "        left[i] = array[i];\n",
    "    }\n",
    "    for (int i = mid; i < array.length; i++) {\n",
    "        right[i - mid] = array[i];\n",
    "    }\n",
    "\n",
    "    // Recursively sort each half\n",
    "    mergeSort(left);\n",
    "    mergeSort(right);\n",
    "\n",
    "    // Merge the sorted halves\n",
    "    merge(array, left, right);\n",
    "}\n"
   ]
  },
  {
   "cell_type": "markdown",
   "metadata": {},
   "source": []
  },
  {
   "cell_type": "code",
   "execution_count": null,
   "metadata": {
    "vscode": {
     "languageId": "plaintext"
    }
   },
   "outputs": [],
   "source": [
    "This is the merge sort algorithm:\n",
    "\n",
    "public static void merge(int[] array, int[] left, int[] right) {\n",
    "    int i = 0, j = 0, k = 0;\n",
    "\n",
    "    // Compare elements from both arrays and copy the smaller one\n",
    "    while (i < left.length && j < right.length) {\n",
    "        if (left[i] <= right[j]) {\n",
    "            array[k++] = left[i++];\n",
    "        } else {\n",
    "            array[k++] = right[j++];\n",
    "        }\n",
    "    }\n",
    "\n",
    "    // Copy any remaining elements from the left array\n",
    "    while (i < left.length) {\n",
    "        array[k++] = left[i++];\n",
    "    }\n",
    "\n",
    "    // Copy any remaining elements from the right array\n",
    "    while (j < right.length) {\n",
    "        array[k++] = right[j++];\n",
    "    }\n",
    "}\n"
   ]
  }
 ],
 "metadata": {
  "language_info": {
   "name": "python"
  }
 },
 "nbformat": 4,
 "nbformat_minor": 2
}
