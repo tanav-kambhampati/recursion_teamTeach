{
 "cells": [
  {
   "cell_type": "markdown",
   "metadata": {},
   "source": [
    "**Merge Sort:**\n",
    "Merge Sort is a more advanced algorithm. It uses a strategy called divide-and-conquer. That means it breaks a big problem into smaller problems, solves those, and then combines the results. Think about sorting a messy pile of papers: you might divide it into smaller piles, organize each one, and then combine them back in order.\n",
    "\n",
    "How does it work?\n",
    "![alt text](image.png)\n",
    "\n",
    "A simple way to think about this is with the mantra \"left, right, merge... left, right merge... left, right, merge...\""
   ]
  },
  {
   "cell_type": "markdown",
   "metadata": {},
   "source": [
    "Now let's take a look at how the code for this works in Java:"
   ]
  },
  {
   "cell_type": "code",
   "execution_count": null,
   "metadata": {
    "vscode": {
     "languageId": "plaintext"
    }
   },
   "outputs": [],
   "source": [
    "This is the splitting of array\n",
    "\n",
    "\n",
    "public static void mergeSort(int[] array) {\n",
    "    if (array.length < 2) { // Base case: if the array has one or zero elements\n",
    "        return;\n",
    "    }\n",
    "    int mid = array.length / 2;\n",
    "\n",
    "    // Split the array into two halves\n",
    "    int[] left = new int[mid];\n",
    "    int[] right = new int[array.length - mid];\n",
    "\n",
    "    for (int i = 0; i < mid; i++) {\n",
    "        left[i] = array[i];\n",
    "    }\n",
    "    for (int i = mid; i < array.length; i++) {\n",
    "        right[i - mid] = array[i];\n",
    "    }\n",
    "\n",
    "    // Recursively sort each half\n",
    "    mergeSort(left);\n",
    "    mergeSort(right);\n",
    "\n",
    "    // Merge the sorted halves\n",
    "    merge(array, left, right);\n",
    "}\n"
   ]
  },
  {
   "cell_type": "code",
   "execution_count": null,
   "metadata": {
    "vscode": {
     "languageId": "plaintext"
    }
   },
   "outputs": [],
   "source": [
    "This is the merge sort algorithm:\n",
    "\n",
    "public static void merge(int[] array, int[] left, int[] right) {\n",
    "    int i = 0, j = 0, k = 0;\n",
    "\n",
    "    // Compare elements from both arrays and copy the smaller one\n",
    "    while (i < left.length && j < right.length) {\n",
    "        if (left[i] <= right[j]) {\n",
    "            array[k++] = left[i++];\n",
    "        } else {\n",
    "            array[k++] = right[j++];\n",
    "        }\n",
    "    }\n",
    "\n",
    "    // Copy any remaining elements from the left array\n",
    "    while (i < left.length) {\n",
    "        array[k++] = left[i++];\n",
    "    }\n",
    "\n",
    "    // Copy any remaining elements from the right array\n",
    "    while (j < right.length) {\n",
    "        array[k++] = right[j++];\n",
    "    }\n",
    "}\n"
   ]
  }
 ],
 "metadata": {
  "language_info": {
   "name": "python"
  }
 },
 "nbformat": 4,
 "nbformat_minor": 2
}
