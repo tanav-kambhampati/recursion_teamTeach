{
 "cells": [
  {
   "cell_type": "markdown",
   "metadata": {},
   "source": [
    "________________________________________________________________________________________________________________________________________\n",
    "# Unit 10 - Recursion\n",
    "Tanav K, Sri S, Srinivas N | Period 1\n",
    "________________________________________________________________________________________________________________________________________"
   ]
  },
  {
   "cell_type": "markdown",
   "metadata": {},
   "source": [
    "#### Important Notes\n",
    "- AP Exam Weighting 5 - 7.5%\n",
    "- You will be tested on what recursive methods return/print\n",
    "- Some FRQ's do have recursive solutions that can work, but you are not required to answer using recursive\n",
    "- <span style=\"color: red;\">ONLY RECURSIVE QUESTIONS ARE ON THE MULTIPLE CHOICE.</span>\n",
    "- <span style=\"color: red;\">YOU WILL NOT BE ASKED TO WRITE RECURSIVE PROGRAMS ON FRQS!!!.</span>\n",
    "________________________________________________________________________________________________________________________________________"
   ]
  },
  {
   "cell_type": "markdown",
   "metadata": {},
   "source": [
    "- Recursion is a process in which a function calls itself directly or indirectly is called recursion and the corresponding function is called a recursive function.\n",
    "- The idea is to represent a problem in terms of one or more smaller sub-problems and add base conditions that stop the recursion\n",
    "- For example, we compute factorial n if we know the factorial of (n-1). The base case for factorial would be n = 0. We return 1 when n = 0."
   ]
  },
  {
   "cell_type": "markdown",
   "metadata": {},
   "source": [
    "![Screenshot 2025-01-05 at 9 20 19 PM](https://github.com/user-attachments/assets/810768c5-d02e-4789-83a1-cee19795d394)"
   ]
  }
 ],
 "metadata": {
  "language_info": {
   "name": "python"
  },
  "orig_nbformat": 4
 },
 "nbformat": 4,
 "nbformat_minor": 2
}
